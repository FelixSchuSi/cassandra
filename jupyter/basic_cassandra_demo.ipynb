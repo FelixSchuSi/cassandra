{
 "cells": [
  {
   "cell_type": "code",
   "execution_count": null,
   "id": "96ad1d4e-79eb-4f97-a91f-4f3a5d700a1d",
   "metadata": {},
   "outputs": [],
   "source": [
    "# Fragestellung: Welche Spiele spielen Spieler, die das Spiel X mehr als 50h (3000 min) gespielt haben?\n",
    "# text    text      list[text]\n",
    "# item_id item_name item_ids\n",
    "\n",
    "# Kann ich speichern???\n"
   ]
  },
  {
   "cell_type": "code",
   "execution_count": 1,
   "id": "6739aed6-d358-4019-9e53-cf710170fedc",
   "metadata": {},
   "outputs": [
    {
     "name": "stdout",
     "output_type": "stream",
     "text": [
      "Connecting...\n",
      "Connection established!\n"
     ]
    }
   ],
   "source": [
    "from cassandra.cluster import Cluster\n",
    "print(\"Connecting...\")\n",
    "# Jede Node des Clusters ist gleich, daher können ebenfalls \"cassandra1\" und \"cassandra2\" genutzt werden\n",
    "cluster = Cluster(['cassandra0']) \n",
    "session = cluster.connect()\n",
    "print(\"Connection established!\")"
   ]
  },
  {
   "cell_type": "code",
   "execution_count": 19,
   "id": "2b91e45b-da22-426e-9da5-a9b720e254d3",
   "metadata": {},
   "outputs": [
    {
     "ename": "AlreadyExists",
     "evalue": "Keyspace 'games' already exists",
     "output_type": "error",
     "traceback": [
      "\u001b[0;31m---------------------------------------------------------------------------\u001b[0m",
      "\u001b[0;31mAlreadyExists\u001b[0m                             Traceback (most recent call last)",
      "\u001b[0;32m/tmp/ipykernel_53/77492140.py\u001b[0m in \u001b[0;36m<module>\u001b[0;34m\u001b[0m\n\u001b[1;32m      1\u001b[0m \u001b[0mcreate_keyspace\u001b[0m \u001b[0;34m=\u001b[0m \u001b[0;34m\"CREATE KEYSPACE games WITH REPLICATION = {'class' : 'SimpleStrategy', 'replication_factor':2}\"\u001b[0m\u001b[0;34m\u001b[0m\u001b[0;34m\u001b[0m\u001b[0m\n\u001b[0;32m----> 2\u001b[0;31m \u001b[0mres\u001b[0m \u001b[0;34m=\u001b[0m \u001b[0msession\u001b[0m\u001b[0;34m.\u001b[0m\u001b[0mexecute\u001b[0m\u001b[0;34m(\u001b[0m\u001b[0mcreate_keyspace\u001b[0m\u001b[0;34m)\u001b[0m\u001b[0;34m\u001b[0m\u001b[0;34m\u001b[0m\u001b[0m\n\u001b[0m\u001b[1;32m      3\u001b[0m \u001b[0mres\u001b[0m\u001b[0;34m\u001b[0m\u001b[0;34m\u001b[0m\u001b[0m\n",
      "\u001b[0;32m/opt/conda/lib/python3.9/site-packages/cassandra/cluster.py\u001b[0m in \u001b[0;36mexecute\u001b[0;34m(self, query, parameters, timeout, trace, custom_payload, execution_profile, paging_state, host, execute_as)\u001b[0m\n\u001b[1;32m   2616\u001b[0m         \"\"\"\n\u001b[1;32m   2617\u001b[0m \u001b[0;34m\u001b[0m\u001b[0m\n\u001b[0;32m-> 2618\u001b[0;31m         \u001b[0;32mreturn\u001b[0m \u001b[0mself\u001b[0m\u001b[0;34m.\u001b[0m\u001b[0mexecute_async\u001b[0m\u001b[0;34m(\u001b[0m\u001b[0mquery\u001b[0m\u001b[0;34m,\u001b[0m \u001b[0mparameters\u001b[0m\u001b[0;34m,\u001b[0m \u001b[0mtrace\u001b[0m\u001b[0;34m,\u001b[0m \u001b[0mcustom_payload\u001b[0m\u001b[0;34m,\u001b[0m \u001b[0mtimeout\u001b[0m\u001b[0;34m,\u001b[0m \u001b[0mexecution_profile\u001b[0m\u001b[0;34m,\u001b[0m \u001b[0mpaging_state\u001b[0m\u001b[0;34m,\u001b[0m \u001b[0mhost\u001b[0m\u001b[0;34m,\u001b[0m \u001b[0mexecute_as\u001b[0m\u001b[0;34m)\u001b[0m\u001b[0;34m.\u001b[0m\u001b[0mresult\u001b[0m\u001b[0;34m(\u001b[0m\u001b[0;34m)\u001b[0m\u001b[0;34m\u001b[0m\u001b[0;34m\u001b[0m\u001b[0m\n\u001b[0m\u001b[1;32m   2619\u001b[0m \u001b[0;34m\u001b[0m\u001b[0m\n\u001b[1;32m   2620\u001b[0m     def execute_async(self, query, parameters=None, trace=False, custom_payload=None,\n",
      "\u001b[0;32m/opt/conda/lib/python3.9/site-packages/cassandra/cluster.py\u001b[0m in \u001b[0;36mresult\u001b[0;34m(self)\u001b[0m\n\u001b[1;32m   4892\u001b[0m             \u001b[0;32mreturn\u001b[0m \u001b[0mResultSet\u001b[0m\u001b[0;34m(\u001b[0m\u001b[0mself\u001b[0m\u001b[0;34m,\u001b[0m \u001b[0mself\u001b[0m\u001b[0;34m.\u001b[0m\u001b[0m_final_result\u001b[0m\u001b[0;34m)\u001b[0m\u001b[0;34m\u001b[0m\u001b[0;34m\u001b[0m\u001b[0m\n\u001b[1;32m   4893\u001b[0m         \u001b[0;32melse\u001b[0m\u001b[0;34m:\u001b[0m\u001b[0;34m\u001b[0m\u001b[0;34m\u001b[0m\u001b[0m\n\u001b[0;32m-> 4894\u001b[0;31m             \u001b[0;32mraise\u001b[0m \u001b[0mself\u001b[0m\u001b[0;34m.\u001b[0m\u001b[0m_final_exception\u001b[0m\u001b[0;34m\u001b[0m\u001b[0;34m\u001b[0m\u001b[0m\n\u001b[0m\u001b[1;32m   4895\u001b[0m \u001b[0;34m\u001b[0m\u001b[0m\n\u001b[1;32m   4896\u001b[0m     \u001b[0;32mdef\u001b[0m \u001b[0mget_query_trace_ids\u001b[0m\u001b[0;34m(\u001b[0m\u001b[0mself\u001b[0m\u001b[0;34m)\u001b[0m\u001b[0;34m:\u001b[0m\u001b[0;34m\u001b[0m\u001b[0;34m\u001b[0m\u001b[0m\n",
      "\u001b[0;31mAlreadyExists\u001b[0m: Keyspace 'games' already exists"
     ]
    }
   ],
   "source": [
    "create_keyspace = \"CREATE KEYSPACE games WITH REPLICATION = {'class' : 'SimpleStrategy', 'replication_factor':2}\"\n",
    "res = session.execute(create_keyspace)\n",
    "res"
   ]
  },
  {
   "cell_type": "code",
   "execution_count": 8,
   "id": "cb8e8a65-a5ec-4d82-a7c0-c719c65c11e7",
   "metadata": {},
   "outputs": [
    {
     "data": {
      "text/plain": [
       "<cassandra.cluster.ResultSet at 0x7f41ac25da00>"
      ]
     },
     "execution_count": 8,
     "metadata": {},
     "output_type": "execute_result"
    }
   ],
   "source": [
    "use_keyspace = \"USE games\"\n",
    "res = session.execute(use_keyspace)\n",
    "res"
   ]
  },
  {
   "cell_type": "code",
   "execution_count": 98,
   "id": "d9f65157-7814-479e-a99e-fea04ec58498",
   "metadata": {},
   "outputs": [
    {
     "data": {
      "text/plain": [
       "<cassandra.cluster.ResultSet at 0x7f41ac0454f0>"
      ]
     },
     "execution_count": 98,
     "metadata": {},
     "output_type": "execute_result"
    }
   ],
   "source": [
    "create_table = \"\"\"CREATE TABLE related_games_by_game_id (\n",
    " game_id text,\n",
    " game_name text,\n",
    " related_games list<text>,\n",
    " PRIMARY KEY(game_id, game_name)\n",
    ")\n",
    ";\"\"\"\n",
    "res = session.execute(create_table)\n",
    "res"
   ]
  },
  {
   "cell_type": "code",
   "execution_count": 65,
   "id": "8df97deb-6120-417a-b8e9-d4cf146ae288",
   "metadata": {},
   "outputs": [
    {
     "name": "stdout",
     "output_type": "stream",
     "text": [
      "<cassandra.cluster.ResultSet object at 0x7f41ac0553d0>\n",
      "<cassandra.cluster.ResultSet object at 0x7f41ac1f3d30>\n",
      "<cassandra.cluster.ResultSet object at 0x7f41ac056e80>\n",
      "<cassandra.cluster.ResultSet object at 0x7f41ac0566a0>\n"
     ]
    }
   ],
   "source": [
    "# NICHT SO MACHEN!!!\n",
    "# Weiter unten ist ein Beispiel wie man richtig Batch inserts macht.\n",
    "\n",
    "items = [(\"a\",\"100\"),(\"b\",\"1\"),(\"f\",\"3\"),(\"e\",\"2\"),]\n",
    "for game_id, game_name in items:\n",
    "    insert = f\"\"\"\n",
    "    INSERT INTO related_games_by_game_id (game_id, game_name, related_games)\n",
    "           VALUES ('{game_id}', '{game_name}', ['other_game_id_1','other_game_id_2','other_game_id_3']);\n",
    "    \"\"\"\n",
    "    res = session.execute(insert)\n",
    "    print(res)"
   ]
  },
  {
   "cell_type": "code",
   "execution_count": 101,
   "id": "7d173cc5-3635-4231-b3f1-0f8f4031d0d5",
   "metadata": {},
   "outputs": [
    {
     "name": "stdout",
     "output_type": "stream",
     "text": [
      "Row(game_id='a', game_name='100', related_games=['other_game_id_1', 'other_game_id_2', 'other_game_id_3'])\n",
      "Row(game_id='f', game_name='3', related_games=['other_game_id_1', 'other_game_id_2', 'other_game_id_3'])\n",
      "Row(game_id='e', game_name='2', related_games=['other_game_id_1', 'other_game_id_2', 'other_game_id_3'])\n",
      "Row(game_id='b', game_name='1', related_games=['other_game_id_1', 'other_game_id_2', 'other_game_id_3'])\n"
     ]
    }
   ],
   "source": [
    "select = \"SELECT * FROM related_games_by_game_id\"\n",
    "rows = session.execute(select)\n",
    "for row in rows:\n",
    "  print(row)"
   ]
  },
  {
   "cell_type": "code",
   "execution_count": 97,
   "id": "082966f5-74c4-44e3-9785-45cf0dfc68b1",
   "metadata": {},
   "outputs": [
    {
     "ename": "InvalidRequest",
     "evalue": "Error from server: code=2200 [Invalid query] message=\"Table 'games.related_games_by_game_id' doesn't exist\"",
     "output_type": "error",
     "traceback": [
      "\u001b[0;31m---------------------------------------------------------------------------\u001b[0m",
      "\u001b[0;31mInvalidRequest\u001b[0m                            Traceback (most recent call last)",
      "\u001b[0;32m/tmp/ipykernel_53/1802923560.py\u001b[0m in \u001b[0;36m<module>\u001b[0;34m\u001b[0m\n\u001b[1;32m      1\u001b[0m \u001b[0mselect\u001b[0m \u001b[0;34m=\u001b[0m \u001b[0;34m\"DROP TABLE related_games_by_game_id\"\u001b[0m\u001b[0;34m\u001b[0m\u001b[0;34m\u001b[0m\u001b[0m\n\u001b[0;32m----> 2\u001b[0;31m \u001b[0mres\u001b[0m \u001b[0;34m=\u001b[0m \u001b[0msession\u001b[0m\u001b[0;34m.\u001b[0m\u001b[0mexecute\u001b[0m\u001b[0;34m(\u001b[0m\u001b[0mselect\u001b[0m\u001b[0;34m)\u001b[0m\u001b[0;34m\u001b[0m\u001b[0;34m\u001b[0m\u001b[0m\n\u001b[0m\u001b[1;32m      3\u001b[0m \u001b[0mres\u001b[0m\u001b[0;34m\u001b[0m\u001b[0;34m\u001b[0m\u001b[0m\n",
      "\u001b[0;32m/opt/conda/lib/python3.9/site-packages/cassandra/cluster.py\u001b[0m in \u001b[0;36mexecute\u001b[0;34m(self, query, parameters, timeout, trace, custom_payload, execution_profile, paging_state, host, execute_as)\u001b[0m\n\u001b[1;32m   2616\u001b[0m         \"\"\"\n\u001b[1;32m   2617\u001b[0m \u001b[0;34m\u001b[0m\u001b[0m\n\u001b[0;32m-> 2618\u001b[0;31m         \u001b[0;32mreturn\u001b[0m \u001b[0mself\u001b[0m\u001b[0;34m.\u001b[0m\u001b[0mexecute_async\u001b[0m\u001b[0;34m(\u001b[0m\u001b[0mquery\u001b[0m\u001b[0;34m,\u001b[0m \u001b[0mparameters\u001b[0m\u001b[0;34m,\u001b[0m \u001b[0mtrace\u001b[0m\u001b[0;34m,\u001b[0m \u001b[0mcustom_payload\u001b[0m\u001b[0;34m,\u001b[0m \u001b[0mtimeout\u001b[0m\u001b[0;34m,\u001b[0m \u001b[0mexecution_profile\u001b[0m\u001b[0;34m,\u001b[0m \u001b[0mpaging_state\u001b[0m\u001b[0;34m,\u001b[0m \u001b[0mhost\u001b[0m\u001b[0;34m,\u001b[0m \u001b[0mexecute_as\u001b[0m\u001b[0;34m)\u001b[0m\u001b[0;34m.\u001b[0m\u001b[0mresult\u001b[0m\u001b[0;34m(\u001b[0m\u001b[0;34m)\u001b[0m\u001b[0;34m\u001b[0m\u001b[0;34m\u001b[0m\u001b[0m\n\u001b[0m\u001b[1;32m   2619\u001b[0m \u001b[0;34m\u001b[0m\u001b[0m\n\u001b[1;32m   2620\u001b[0m     def execute_async(self, query, parameters=None, trace=False, custom_payload=None,\n",
      "\u001b[0;32m/opt/conda/lib/python3.9/site-packages/cassandra/cluster.py\u001b[0m in \u001b[0;36mresult\u001b[0;34m(self)\u001b[0m\n\u001b[1;32m   4892\u001b[0m             \u001b[0;32mreturn\u001b[0m \u001b[0mResultSet\u001b[0m\u001b[0;34m(\u001b[0m\u001b[0mself\u001b[0m\u001b[0;34m,\u001b[0m \u001b[0mself\u001b[0m\u001b[0;34m.\u001b[0m\u001b[0m_final_result\u001b[0m\u001b[0;34m)\u001b[0m\u001b[0;34m\u001b[0m\u001b[0;34m\u001b[0m\u001b[0m\n\u001b[1;32m   4893\u001b[0m         \u001b[0;32melse\u001b[0m\u001b[0;34m:\u001b[0m\u001b[0;34m\u001b[0m\u001b[0;34m\u001b[0m\u001b[0m\n\u001b[0;32m-> 4894\u001b[0;31m             \u001b[0;32mraise\u001b[0m \u001b[0mself\u001b[0m\u001b[0;34m.\u001b[0m\u001b[0m_final_exception\u001b[0m\u001b[0;34m\u001b[0m\u001b[0;34m\u001b[0m\u001b[0m\n\u001b[0m\u001b[1;32m   4895\u001b[0m \u001b[0;34m\u001b[0m\u001b[0m\n\u001b[1;32m   4896\u001b[0m     \u001b[0;32mdef\u001b[0m \u001b[0mget_query_trace_ids\u001b[0m\u001b[0;34m(\u001b[0m\u001b[0mself\u001b[0m\u001b[0;34m)\u001b[0m\u001b[0;34m:\u001b[0m\u001b[0;34m\u001b[0m\u001b[0;34m\u001b[0m\u001b[0m\n",
      "\u001b[0;31mInvalidRequest\u001b[0m: Error from server: code=2200 [Invalid query] message=\"Table 'games.related_games_by_game_id' doesn't exist\""
     ]
    }
   ],
   "source": [
    "select = \"DROP TABLE related_games_by_game_id\"\n",
    "res = session.execute(select)\n",
    "res"
   ]
  },
  {
   "cell_type": "code",
   "execution_count": 99,
   "id": "b54e9848-5dbe-4b3b-b59c-455a0c6a0d86",
   "metadata": {},
   "outputs": [],
   "source": [
    "from cassandra.query import BatchStatement, ConsistencyLevel\n",
    "\n",
    "# Achtung! Hier wird ein Antipattern verwendet\n",
    "# Die game_id ist der partition key. Bei diesem Datensatz ist er bei jedem Eintrag unterschiedlich.\n",
    "# Dadurch muss bei jedem insert unter Umständen mit einer anderen Node gesprochen werden, wodurch die Operation langsam wird.\n",
    "# Batch inserts sollten so organisiert werden, dass Zeilen mit gleichem partition key zusammen ausgeführt werden.\n",
    "# https://docs.datastax.com/en/cql-oss/3.3/cql/cql_using/useBatchBadExample.html\n",
    "\n",
    "items = [(\"a\",\"100\"),(\"b\",\"1\"),(\"f\",\"3\"),(\"e\",\"2\")]\n",
    "\n",
    "insert_game = session.prepare(\"INSERT INTO related_games_by_game_id (game_id, game_name, related_games) VALUES (?, ?, ['other_game_id_1','other_game_id_2','other_game_id_3'])\")\n",
    "batch = BatchStatement(consistency_level=ConsistencyLevel.QUORUM)\n",
    "\n",
    "for game_id, game_name in items:\n",
    "    batch.add(insert_game, (game_id, game_name))\n",
    "\n",
    "res = session.execute(batch)"
   ]
  }
 ],
 "metadata": {
  "kernelspec": {
   "display_name": "Python 3 (ipykernel)",
   "language": "python",
   "name": "python3"
  },
  "language_info": {
   "codemirror_mode": {
    "name": "ipython",
    "version": 3
   },
   "file_extension": ".py",
   "mimetype": "text/x-python",
   "name": "python",
   "nbconvert_exporter": "python",
   "pygments_lexer": "ipython3",
   "version": "3.9.7"
  }
 },
 "nbformat": 4,
 "nbformat_minor": 5
}
