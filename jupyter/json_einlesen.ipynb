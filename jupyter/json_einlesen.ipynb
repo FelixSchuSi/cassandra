{
 "cells": [
  {
   "cell_type": "code",
   "execution_count": 3,
   "id": "d8097c41-267b-432f-8fce-caf547b303bc",
   "metadata": {},
   "outputs": [
    {
     "name": "stdout",
     "output_type": "stream",
     "text": [
      "Connecting...\n",
      "Connection Established\n"
     ]
    }
   ],
   "source": [
    "from cassandra.cluster import Cluster\n",
    "print(\"Connecting...\")\n",
    "cluster = Cluster(['cassandra'])\n",
    "session = cluster.connect()\n",
    "print(\"Connection Established\")"
   ]
  },
  {
   "cell_type": "code",
   "execution_count": 67,
   "id": "7af60fd1-e5eb-4bfc-93f8-c9af9e200a24",
   "metadata": {},
   "outputs": [
    {
     "name": "stdout",
     "output_type": "stream",
     "text": [
      "{'item_id': '240', 'item_name': 'Counter-Strike: Source', 'playtime_forever': 62, 'playtime_2weeks': 0}\n"
     ]
    }
   ],
   "source": [
    "import ast\n",
    "\n",
    "lines = []\n",
    "\n",
    "with open(\"1000-steam-user-library.json\") as f:\n",
    "    for i in range(0, 50):\n",
    "        line_str = next(f)\n",
    "        line_dict = ast.literal_eval(line_str)\n",
    "        lines.append(line_dict)\n",
    "\n",
    "for item in lines[1].get(\"items\"):\n",
    "    if \"Counter-Strike: Source\" in item[\"item_name\"]: print(item)\n",
    "    \n",
    "# ERKENNTNIS: Spielzeit ist in Minuten angegeben und Daten sind nicht aktuell -> wahrscheinlich um 2017 erfasst"
   ]
  }
 ],
 "metadata": {
  "kernelspec": {
   "display_name": "Python 3 (ipykernel)",
   "language": "python",
   "name": "python3"
  },
  "language_info": {
   "codemirror_mode": {
    "name": "ipython",
    "version": 3
   },
   "file_extension": ".py",
   "mimetype": "text/x-python",
   "name": "python",
   "nbconvert_exporter": "python",
   "pygments_lexer": "ipython3",
   "version": "3.9.7"
  }
 },
 "nbformat": 4,
 "nbformat_minor": 5
}
